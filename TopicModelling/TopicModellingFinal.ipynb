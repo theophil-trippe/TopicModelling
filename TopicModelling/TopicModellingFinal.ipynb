{
 "cells": [
  {
   "cell_type": "markdown",
   "metadata": {},
   "source": [
    "# Topic Modeling with Matrix Decomposition\n",
    "\n",
    "#### Authors: Theophil Trippe and Sahil Karkhanis\n",
    "\n",
    "In this Jupyter Notebook, we present an approach to Topic Modelling using a basic linear algebra concept called **Singular Value Decomposition** with a little demonstration. This notebook is written in order to allow an interactive familiarization with the concept.\n",
    "\n",
    "## Introduction"
   ]
  },
  {
   "cell_type": "markdown",
   "metadata": {},
   "source": [
    "![title](MatVellosoQuote.jpg)"
   ]
  },
  {
   "cell_type": "markdown",
   "metadata": {},
   "source": [
    "### Topic Modelling: \n",
    "- NLP (Natural language processing) and \n",
    "- **not** Text Classification                       \n",
    "    - supervised learning\n",
    "    - you know topics beforehand\n",
    "    - topics are cathegorize into those given topics\n",
    "    - Naive Bayes, Support Vector Machines or logistic regression.\n",
    "- Topic Modelling\n",
    "    - unsupervised learning\n",
    "    - learns topics (in form of weighted words)\n",
    "    - learn a distribution of the documents into those topics\n",
    "    - learns the overall relevance (across all documents) of each topic\n",
    "    - allows quick classification of out-of-sample documents\n",
    "                             \n",
    "                             \n",
    "\n",
    "#### Use Cases:\n",
    "\n",
    "- Alternative to Text Classification when there is a lack of labeled data\n",
    "- Client wants to analyze user requests (e.g. telecommunication company): \n",
    " - *What* are the common topics concerning the customer? (e.g. billing, contract, service problems, etc.)\n",
    " - Do those topics *match* with the clients perception?\n",
    " - On what topics should the client allocate more capacities because the topic has a *high overall relevance*\n",
    " \n"
   ]
  },
  {
   "cell_type": "markdown",
   "metadata": {},
   "source": [
    "## Data Preprocessing (Bag-of-Words approach)\n",
    "\n",
    "Consider this dataset consisting of two documents where each document consists of just one sentence:\n",
    "\n",
    "Document 1 | Document 2\n",
    "---|---\n",
    "This is a sentence about a dog. | Today we are talking about cats"
   ]
  },
  {
   "cell_type": "markdown",
   "metadata": {},
   "source": [
    "The *bag-of-words* approach simply counts which word occurs how many times in a sentence. Therefore disregarding word-order or sentence structure:\n",
    "\n",
    "Document 1 | Document 2\n",
    "---|---\n",
    "This is a sentence about a dog. | Today we are talking about cats\n",
    "This (1) |\n",
    "is (1) |\n",
    "a (2) |\n",
    "sentence (1) |\n",
    "about (1) |\n",
    "dog (1) |"
   ]
  },
  {
   "cell_type": "markdown",
   "metadata": {},
   "source": [
    "Considering all documents, we obtain the vocabulary of our dataset and assign a value to each (word, document)-pair:\n",
    "\n",
    "Vocabulary | Document 1 | Document 2\n",
    "--- | ---|---\n",
    " | This is a sentence about a dog. | Today we are talking about cats\n",
    "*This* | 1 | 0\n",
    "*is* | 1 | 0\n",
    "*a* | 2 | 0\n",
    "*sentence* | 1 | 0\n",
    "*about* | 1 | 1\n",
    "*dog* | 1 | 0\n",
    "*Today* | 0 | 1\n",
    "*we* | 0 | 1\n",
    "*are* | 0 | 1\n",
    "*talking* | 0 | 1\n",
    "*cats* | 0 | 1"
   ]
  },
  {
   "cell_type": "markdown",
   "metadata": {},
   "source": [
    "We actually lose the information containing sentence structure and word-order of our documents completely, leaving us with a matrix containing all relevant information (here with an alphabetically ordered vocab):\n",
    "\n",
    "Vocabulary | Document 1 | Document 2\n",
    "--- | ---|---\n",
    "*a* | 2 | 0\n",
    "*about* | 1 | 1\n",
    "*are* | 0 | 1\n",
    "*cats* | 0 | 1\n",
    "*dog* | 1 | 0\n",
    "*is* | 1 | 0\n",
    "*question* | 1 | 0\n",
    "*talking* | 0 | 1\n",
    "*this* | 1 | 0\n",
    "*today* | 0 | 1\n",
    "*we* | 0 | 1\n"
   ]
  },
  {
   "cell_type": "markdown",
   "metadata": {},
   "source": [
    "## Our approach to Topic Modeling (SVD)\n",
    "\n",
    "Once the data is transformed into a matrix, we use **Singular Value Decomposition (SVD)**, to decompose the matrix into three matrices $U, S$ and $V$. "
   ]
  },
  {
   "cell_type": "markdown",
   "metadata": {},
   "source": [
    "![title](SVD_visualization.jpg)"
   ]
  },
  {
   "cell_type": "markdown",
   "metadata": {},
   "source": [
    "We can then interpret the different components of this new representation of our data in the following way:\n",
    "\n",
    "+ **before**:  words per document\n",
    "\n",
    "+ **after**:  (words per topic) (overall relevance of topics) (topics per document)\n",
    "\n",
    "+ **columns of S**: topics, represented by the relevance of each word of the vocabulary\n",
    "\n",
    "+ **columns of $\\Sigma V$**: indexing the relative relevance of each topic for some specific document"
   ]
  },
  {
   "cell_type": "markdown",
   "metadata": {},
   "source": [
    "## Demonstration\n",
    "\n",
    "\n",
    "SciKitLearn provides build-in datasets: The **20 Newsgroups dataset** contains around 18000 newsgroup posts on 20 different topics. Newsgroups are discussion groupsin the Usenet, so you can think about it as internet forums."
   ]
  },
  {
   "cell_type": "code",
   "execution_count": 9,
   "metadata": {},
   "outputs": [],
   "source": [
    "import numpy as np\n",
    "from sklearn.datasets import fetch_20newsgroups\n",
    "from sklearn import decomposition\n",
    "from scipy import linalg\n",
    "import matplotlib.pyplot as plt\n",
    "\n",
    "%matplotlib inline\n",
    "np.set_printoptions(suppress=True)"
   ]
  },
  {
   "cell_type": "markdown",
   "metadata": {},
   "source": [
    "### Fetching and Cleaning the Data\n",
    "\n",
    "There are roughly 11000 documents in the training data and 20 different topics:"
   ]
  },
  {
   "cell_type": "code",
   "execution_count": 10,
   "metadata": {},
   "outputs": [
    {
     "name": "stdout",
     "output_type": "stream",
     "text": [
      "(11314,)\n"
     ]
    },
    {
     "data": {
      "text/plain": [
       "['alt.atheism',\n",
       " 'comp.graphics',\n",
       " 'comp.os.ms-windows.misc',\n",
       " 'comp.sys.ibm.pc.hardware',\n",
       " 'comp.sys.mac.hardware',\n",
       " 'comp.windows.x',\n",
       " 'misc.forsale',\n",
       " 'rec.autos',\n",
       " 'rec.motorcycles',\n",
       " 'rec.sport.baseball',\n",
       " 'rec.sport.hockey',\n",
       " 'sci.crypt',\n",
       " 'sci.electronics',\n",
       " 'sci.med',\n",
       " 'sci.space',\n",
       " 'soc.religion.christian',\n",
       " 'talk.politics.guns',\n",
       " 'talk.politics.mideast',\n",
       " 'talk.politics.misc',\n",
       " 'talk.religion.misc']"
      ]
     },
     "execution_count": 10,
     "metadata": {},
     "output_type": "execute_result"
    }
   ],
   "source": [
    "example = fetch_20newsgroups()\n",
    "print(example.filenames.shape)\n",
    "example.target_names"
   ]
  },
  {
   "cell_type": "markdown",
   "metadata": {},
   "source": [
    "We will only use the data corresponding to 4 of those topics for the purpose of this demo."
   ]
  },
  {
   "cell_type": "code",
   "execution_count": 11,
   "metadata": {},
   "outputs": [],
   "source": [
    "categories = ['alt.atheism', 'talk.religion.misc', 'comp.graphics', 'sci.space']\n",
    "example = fetch_20newsgroups(subset='train', categories=categories)"
   ]
  },
  {
   "cell_type": "markdown",
   "metadata": {},
   "source": [
    "Looking at one of the documents we have now, we can see that there is still a lot of information that we don't need in the header and in the footer:"
   ]
  },
  {
   "cell_type": "code",
   "execution_count": 12,
   "metadata": {
    "scrolled": true
   },
   "outputs": [
    {
     "name": "stdout",
     "output_type": "stream",
     "text": [
      "From: rych@festival.ed.ac.uk (R Hawkes)\n",
      "Subject: 3DS: Where did all the texture rules go?\n",
      "Lines: 21\n",
      "\n",
      "Hi,\n",
      "\n",
      "I've noticed that if you only save a model (with all your mapping planes\n",
      "positioned carefully) to a .3DS file that when you reload it after restarting\n",
      "3DS, they are given a default position and orientation.  But if you save\n",
      "to a .PRJ file their positions/orientation are preserved.  Does anyone\n",
      "know why this information is not stored in the .3DS file?  Nothing is\n",
      "explicitly said in the manual about saving texture rules in the .PRJ file. \n",
      "I'd like to be able to read the texture rule information, does anyone have \n",
      "the format for the .PRJ file?\n",
      "\n",
      "Is the .CEL file format available from somewhere?\n",
      "\n",
      "Rych\n",
      "\n",
      "======================================================================\n",
      "Rycharde Hawkes\t\t\t\temail: rych@festival.ed.ac.uk\n",
      "Virtual Environment Laboratory\n",
      "Dept. of Psychology\t\t\tTel  : +44 31 650 3426\n",
      "Univ. of Edinburgh\t\t\tFax  : +44 31 667 0150\n",
      "======================================================================\n",
      "\n"
     ]
    }
   ],
   "source": [
    "print(\"\\n\".join(example.data[:1]))"
   ]
  },
  {
   "cell_type": "markdown",
   "metadata": {},
   "source": [
    "We can remove those automatically using the *remove* parameter included in fetch_20newsgroups."
   ]
  },
  {
   "cell_type": "code",
   "execution_count": 13,
   "metadata": {},
   "outputs": [],
   "source": [
    "newsgroups_train = fetch_20newsgroups(subset='train', categories=categories, remove= ('headers', 'footers', 'quotes')) #only the posts belonging to the specified cathegories where headers, footers and quotes are removed (cleaning the data) are included\n",
    "newsgroups_test = fetch_20newsgroups(subset='test', categories=categories,remove= ('headers', 'footers', 'quotes'))"
   ]
  },
  {
   "cell_type": "markdown",
   "metadata": {},
   "source": [
    "The data now has a much cleaner look:"
   ]
  },
  {
   "cell_type": "code",
   "execution_count": 14,
   "metadata": {},
   "outputs": [
    {
     "name": "stdout",
     "output_type": "stream",
     "text": [
      "Hi,\n",
      "\n",
      "I've noticed that if you only save a model (with all your mapping planes\n",
      "positioned carefully) to a .3DS file that when you reload it after restarting\n",
      "3DS, they are given a default position and orientation.  But if you save\n",
      "to a .PRJ file their positions/orientation are preserved.  Does anyone\n",
      "know why this information is not stored in the .3DS file?  Nothing is\n",
      "explicitly said in the manual about saving texture rules in the .PRJ file. \n",
      "I'd like to be able to read the texture rule information, does anyone have \n",
      "the format for the .PRJ file?\n",
      "\n",
      "Is the .CEL file format available from somewhere?\n",
      "\n",
      "Rych\n"
     ]
    }
   ],
   "source": [
    "print(\"\\n\".join(newsgroups_train.data[:1]))"
   ]
  },
  {
   "cell_type": "markdown",
   "metadata": {},
   "source": [
    "## Data Preprocessing\n",
    "\n",
    "The next step will be, to transform each post into a vector. This step can be combined with other Data preprocessing. Some of the options are the following:\n",
    "\n",
    "\n",
    "### Data Cleaning (Removing Stopwords and Stemming)\n",
    "1. We can remove *stop-words*, so words (like \"this\", \"and\", \"then\", etc...) that don't provide insight about the occuring topics (in the bag of words approach, since we've lost the context of those words)\n",
    "\n",
    "coming back to our previous example, it would reduce our data to this:\n",
    "\n",
    "Vocabulary | Document 1 | Document 2\n",
    "--- | ---|---\n",
    "*cats* | 0 | 1\n",
    "*dog* | 1 | 0\n",
    "*question* | 1 | 0\n",
    "*talking* | 0 | 1\n",
    "*today* | 0 | 1\n",
    "\n",
    "\n",
    "2. We can use a *stemmer*, which is an algorithm that reduces words to their stem (*e.g.: fisher, fishing, fished, fish $\\rightarrow$ fish*) adding up the occuring instances of each version of the word\n",
    "\n",
    "\n",
    "Those two operations drastically reduce the number of words in the vocabulary without losing information about the topics (assuming the stemmer works correctly), therefore improving the perfomance of the decomposition (later). There are several types of Stemming Algorithms that vary in terms of perfomance and accuracy."
   ]
  },
  {
   "cell_type": "markdown",
   "metadata": {},
   "source": [
    "### Vectorizing (using CountVectorizer or TfidfVectorizer)\n",
    "\n",
    "Sklearn provides a few *vectorizer* as part of its feature_extraction tools to transform each document into a vector. (And therefore the dataset into a matrix.)\n",
    "There are several ways to go, depending on the use case:\n",
    "\n",
    "The straight forward approach (like in the cats and dogs example), is to simply count the number of appearances for each word, for that we can use the\n",
    "\n",
    "3. a) Token counts:\n",
    "      - **CountVectorizer**\n",
    "      - straight forward\n",
    "      - counts number of appearances of each word (in a specific document)\n",
    "      - like in the cats and dogs example above\n",
    "    \n",
    "   b) Term frequency (adjusted for document length):\n",
    "      - **TfidfVectorizer** with **use_idf = False**\n",
    "      - Token counts devided by number of words in document\n",
    "      - Use-case example: \"Is a long and detailed user request more relevant than a short one?\"\n",
    "      - e.g. 10 documents, 9 with 50 words, 1 with 5000 words where *\"fish\"* appears 100 times: Are fish now an important topic overall or not?\n",
    " \n",
    "   c) Term frequency and invers document frequency:\n",
    "      - **TfidfVectorizer**\n",
    "      - The weight of a word in a document is antiproportional to the amount of documents the word appears in\n",
    "      - e.g. \"the\" may appear a lot in a document, but since that's the case for all documents, we should not give it too much weight\n",
    "      - Use-case example: You may get a clearer distinction of topics for the different documents, but if a topic is relevant for many users, this approach would be hiding that fact.\n"
   ]
  },
  {
   "cell_type": "markdown",
   "metadata": {},
   "source": [
    "---"
   ]
  },
  {
   "cell_type": "markdown",
   "metadata": {},
   "source": [
    "### Some Possible Combinations\n",
    "\n",
    "Here are just a few possible combinations, using the SnowballStemmer from nltk, note that the stemmer takes a few seconds to work its magic."
   ]
  },
  {
   "cell_type": "code",
   "execution_count": 15,
   "metadata": {},
   "outputs": [],
   "source": [
    "import nltk\n",
    "\n",
    "\n",
    "from sklearn.feature_extraction.text import CountVectorizer\n",
    "from sklearn.feature_extraction.text import TfidfVectorizer\n",
    "\n",
    "\n",
    "from nltk.tokenize import word_tokenize\n",
    "from nltk.stem.snowball import EnglishStemmer\n",
    "\n",
    "class SnowToke(object):\n",
    "     def __init__(self):\n",
    "        self.wnl = EnglishStemmer(ignore_stopwords=True)\n",
    "     \n",
    "     def __call__(self, doc):\n",
    "        return [self.wnl.stem(t) for t in word_tokenize(doc)]"
   ]
  },
  {
   "cell_type": "markdown",
   "metadata": {},
   "source": [
    "##### CountVectorizer (using stemming and discarding stop-words):"
   ]
  },
  {
   "cell_type": "code",
   "execution_count": null,
   "metadata": {},
   "outputs": [],
   "source": [
    "vectorizer1 = CountVectorizer(tokenizer= SnowToke(), stop_words= {'english'})\n",
    "%time DocPerWord1 = vectorizer1.fit_transform(newsgroups_train.data).todense()\n",
    "DocPerWord1.shape"
   ]
  },
  {
   "cell_type": "markdown",
   "metadata": {},
   "source": [
    "##### TfidfVectorizer (using stemming and discarding stop-words):"
   ]
  },
  {
   "cell_type": "code",
   "execution_count": null,
   "metadata": {},
   "outputs": [],
   "source": [
    "vectorizer2 = TfidfVectorizer(tokenizer= SnowToke(), stop_words= {'english'})\n",
    "%time DocPerWord2 = vectorizer2.fit_transform(newsgroups_train.data).todense()\n",
    "DocPerWord2.shape"
   ]
  },
  {
   "cell_type": "markdown",
   "metadata": {},
   "source": [
    "##### Term frequency adjusted for document length (using stemming and discarding stop-words):"
   ]
  },
  {
   "cell_type": "code",
   "execution_count": null,
   "metadata": {},
   "outputs": [],
   "source": [
    "vectorizer3 = TfidfVectorizer(tokenizer= SnowToke(), stop_words= {'english'}, use_idf=False)\n",
    "%time DocPerWord3 = vectorizer3.fit_transform(newsgroups_train.data).todense()\n",
    "DocPerWord3.shape"
   ]
  },
  {
   "cell_type": "markdown",
   "metadata": {},
   "source": [
    "##### CountVectorizer without stemming:"
   ]
  },
  {
   "cell_type": "code",
   "execution_count": 16,
   "metadata": {},
   "outputs": [
    {
     "data": {
      "text/plain": [
       "(2034, 26576)"
      ]
     },
     "execution_count": 16,
     "metadata": {},
     "output_type": "execute_result"
    }
   ],
   "source": [
    "vectorizer4 = CountVectorizer(stop_words = 'english')\n",
    "DocPerWord4= vectorizer4.fit_transform(newsgroups_train.data).todense() # (documents, vocab)\n",
    "DocPerWord4.shape"
   ]
  },
  {
   "cell_type": "markdown",
   "metadata": {},
   "source": [
    "--------"
   ]
  },
  {
   "cell_type": "markdown",
   "metadata": {},
   "source": [
    "The vectorizers used actually create a documents per words matrix. In order to comply with the schematic introduction above we need to transpose that matrix. *(Also choose which one of the options above you want to use to proceed)*"
   ]
  },
  {
   "cell_type": "code",
   "execution_count": 17,
   "metadata": {},
   "outputs": [],
   "source": [
    "WordPerDoc = np.transpose(DocPerWord4)"
   ]
  },
  {
   "cell_type": "markdown",
   "metadata": {},
   "source": [
    "Now *WordPerDoc* is the matrix, where the columns are the document-vectors.\n",
    "since we have fitted the vectorizer we can also get the vocabulary in the same order (alphabetic) as associated in *vectors* :"
   ]
  },
  {
   "cell_type": "code",
   "execution_count": 18,
   "metadata": {},
   "outputs": [
    {
     "data": {
      "text/plain": [
       "(26576,)"
      ]
     },
     "execution_count": 18,
     "metadata": {},
     "output_type": "execute_result"
    }
   ],
   "source": [
    "vocab = np.array(vectorizer4.get_feature_names())\n",
    "vocab.shape #contains the remaining vocabulary in the same order as the matrix\n"
   ]
  },
  {
   "cell_type": "markdown",
   "metadata": {},
   "source": [
    "Let's have a look at the vocabulary:"
   ]
  },
  {
   "cell_type": "code",
   "execution_count": 19,
   "metadata": {},
   "outputs": [
    {
     "data": {
      "text/plain": [
       "array(['egregious', 'egrep', 'egress', 'egret', 'egs', 'egsgate', 'egypt',\n",
       "       'egyptian', 'egyptians', 'eh', 'ehb', 'eickemeyer', 'eicn',\n",
       "       'eidetic', 'eiffel', 'eighth', 'eighties', 'eindprodukten',\n",
       "       'eindstadia', 'einen'], dtype='<U80')"
      ]
     },
     "execution_count": 19,
     "metadata": {},
     "output_type": "execute_result"
    }
   ],
   "source": [
    "vocab[9000:9020]"
   ]
  },
  {
   "cell_type": "markdown",
   "metadata": {},
   "source": [
    "## Singular Value Decomposition\n",
    "![title](SVD_visualization.jpg)\n",
    "We can now get to the decomposition, using scipy.linalg's svd which does the job for us. Using *%time* we can see how long the calculation took:\n",
    "\n"
   ]
  },
  {
   "cell_type": "code",
   "execution_count": 20,
   "metadata": {},
   "outputs": [
    {
     "name": "stdout",
     "output_type": "stream",
     "text": [
      "Wall time: 24.8 s\n"
     ]
    }
   ],
   "source": [
    "%time U, S, V = linalg.svd(WordPerDoc, full_matrices=False)"
   ]
  },
  {
   "cell_type": "code",
   "execution_count": 21,
   "metadata": {},
   "outputs": [
    {
     "name": "stdout",
     "output_type": "stream",
     "text": [
      "(26576, 2034) (2034,) (2034, 2034)\n"
     ]
    }
   ],
   "source": [
    "print(U.shape, S.shape, V.shape)"
   ]
  },
  {
   "cell_type": "markdown",
   "metadata": {},
   "source": [
    "we can see that apart from some numerical deviation, U,S,V really is a **decomposition** of our data matrix:"
   ]
  },
  {
   "cell_type": "code",
   "execution_count": null,
   "metadata": {},
   "outputs": [],
   "source": [
    "np.allclose(U @ np.diag(S) @ V, vectors)"
   ]
  },
  {
   "cell_type": "markdown",
   "metadata": {},
   "source": [
    "Furthermore, the columns of $U$ are orthogonal, which is a mathematical way of saying that any two topics are maximally different:"
   ]
  },
  {
   "cell_type": "code",
   "execution_count": null,
   "metadata": {},
   "outputs": [],
   "source": [
    "np.allclose( np.transpose(U) @ U, np.eye(2034) ) "
   ]
  },
  {
   "cell_type": "markdown",
   "metadata": {},
   "source": [
    "At the moment we have 2034 topics for 2034 documents - which does not seem like a good way of modelling topics - but the model doesn't just assign a topic to each document, instead each document is composed of many different topics, each having an individual weight in that specific document. The overall relevance of each topic is encoded in $s$ and sorted in descending order:"
   ]
  },
  {
   "cell_type": "code",
   "execution_count": 22,
   "metadata": {},
   "outputs": [
    {
     "data": {
      "text/plain": [
       "[<matplotlib.lines.Line2D at 0x1a53840b240>]"
      ]
     },
     "execution_count": 22,
     "metadata": {},
     "output_type": "execute_result"
    },
    {
     "data": {
      "image/png": "[encoded data removed]",
      "text/plain": [
       "<Figure size 432x288 with 1 Axes>"
      ]
     },
     "metadata": {
      "needs_background": "light"
     },
     "output_type": "display_data"
    }
   ],
   "source": [
    "plt.plot(S)"
   ]
  },
  {
   "cell_type": "markdown",
   "metadata": {},
   "source": [
    "We can see, that from the 2034 topics, only a fraction really has a relevant weight."
   ]
  },
  {
   "cell_type": "markdown",
   "metadata": {},
   "source": [
    "Let us have a look at the 10 most relevant topics found by our model, we will represent a topic by the 8 most relevant words to that topic:"
   ]
  },
  {
   "cell_type": "code",
   "execution_count": 23,
   "metadata": {},
   "outputs": [],
   "source": [
    "def show_topics(a, num_top_words=8):\n",
    "    top_words = lambda t: [vocab[i] for i in np.argsort(t)[:-num_top_words-1:-1]]\n",
    "    topic_words = ([top_words(t) for t in a])\n",
    "    return [' '.join(t) for t in topic_words]"
   ]
  },
  {
   "cell_type": "code",
   "execution_count": 24,
   "metadata": {},
   "outputs": [
    {
     "data": {
      "text/plain": [
       "['critus ditto propagandist surname galacticentric kindergarten surreal imaginative',\n",
       " 'edu graphics data space pub mail 128 3d',\n",
       " 'space jesus launch god people satellite matthew atheists',\n",
       " 'space launch satellite commercial nasa satellites market year',\n",
       " 'jpeg graphics space pub edu ray mail send',\n",
       " 'jesus matthew prophecy messiah psalm isaiah david said',\n",
       " 'launch commercial satellite market image services satellites launches',\n",
       " 'data available nasa ftp grass anonymous contact gov',\n",
       " 'atheists god religious atheism religion believe belief atheist',\n",
       " 'probe data surface moon mars probes lunar launch']"
      ]
     },
     "execution_count": 24,
     "metadata": {},
     "output_type": "execute_result"
    }
   ],
   "source": [
    "show_topics(np.transpose(U)[:10])"
   ]
  },
  {
   "cell_type": "markdown",
   "metadata": {},
   "source": [
    "Compare these topics with the *\"original\"* topics to see whether the results are good. Remember that this is unsupervised learning, the topics below are just for reference and have at no point been given to our model as information."
   ]
  },
  {
   "cell_type": "code",
   "execution_count": 25,
   "metadata": {},
   "outputs": [
    {
     "data": {
      "text/plain": [
       "['alt.atheism', 'comp.graphics', 'sci.space', 'talk.religion.misc']"
      ]
     },
     "execution_count": 25,
     "metadata": {},
     "output_type": "execute_result"
    }
   ],
   "source": [
    "newsgroups_train.target_names #The original topics, for reference"
   ]
  },
  {
   "cell_type": "markdown",
   "metadata": {},
   "source": [
    "Use the function below if you want to get more information on a specific topic. It gives you the number of top words you wish to see (default at 10) paired with their relevancy for the topic as well as a plot of those relevancies. Just put in the index of the topic you are interested in:"
   ]
  },
  {
   "cell_type": "code",
   "execution_count": 27,
   "metadata": {},
   "outputs": [
    {
     "data": {
      "text/plain": [
       "[(0.37078708261541204, 'space'),\n",
       " (0.23469791756443883, 'jesus'),\n",
       " (0.21631027095973063, 'launch'),\n",
       " (0.2025332575252736, 'god'),\n",
       " (0.13461498333108898, 'people'),\n",
       " (0.13006103023944154, 'satellite'),\n",
       " (0.12307802293069604, 'matthew'),\n",
       " (0.10973025494563006, 'atheists'),\n",
       " (0.09707589568187676, 'does'),\n",
       " (0.08698909373485755, 'time')]"
      ]
     },
     "execution_count": 27,
     "metadata": {},
     "output_type": "execute_result"
    },
    {
     "data": {
      "image/png": "[encoded data removed]",
      "text/plain": [
       "<Figure size 432x288 with 1 Axes>"
      ]
     },
     "metadata": {
      "needs_background": "light"
     },
     "output_type": "display_data"
    }
   ],
   "source": [
    "def topic_details(t, num_top_words=10):\n",
    "    word_relev =  [(U[i,t],vocab[i]) for i in np.argsort(U[:,t])[:-num_top_words-1:-1]]\n",
    "    display = [U[i,t] for i in np.argsort(U[:,t])[:-num_top_words-1:-1]]\n",
    "    plt.plot(display)\n",
    "    return word_relev\n",
    "\n",
    "topic_details(2)"
   ]
  },
  {
   "cell_type": "markdown",
   "metadata": {
    "scrolled": true
   },
   "source": [
    "## Truncated SVD"
   ]
  },
  {
   "cell_type": "markdown",
   "metadata": {},
   "source": [
    "Keeping the the relevancies of our topics in mind (plt.plot(S)), we can lose some of the less relevant topics, which translates into *truncating* our matrices $U, S$ and $V$. We get an approximate decomposition which uses way less space, called *Truncated SVD*. So we lose columns in $U$, singular values in $S$ and rows in $V$."
   ]
  },
  {
   "cell_type": "markdown",
   "metadata": {},
   "source": [
    "![title](SVD_visualization.jpg)"
   ]
  },
  {
   "cell_type": "markdown",
   "metadata": {},
   "source": [
    "What happens, if we reduce $U$ by $n$ colons (from the right), $S$ by $n$ singular values (the last/least ones) and $V$ by $n$ rows (from the buttom)?"
   ]
  },
  {
   "cell_type": "code",
   "execution_count": 28,
   "metadata": {},
   "outputs": [],
   "source": [
    "def truncate(n):\n",
    "    U1 = U[:,:-n]\n",
    "    S1 = S[:-n]\n",
    "    V1 = V[:-n,0:]\n",
    "    print(U1.shape, S1.shape, V1.shape)\n",
    "    print(\"relative average deviation:\" )\n",
    "    return np.mean(WordPerDoc - (U1 @ np.diag(S1) @ V1))/np.mean(WordPerDoc)"
   ]
  },
  {
   "cell_type": "code",
   "execution_count": 29,
   "metadata": {},
   "outputs": [
    {
     "name": "stdout",
     "output_type": "stream",
     "text": [
      "(26576, 34) (34,) (34, 2034)\n",
      "relative average deviation:\n"
     ]
    },
    {
     "data": {
      "text/plain": [
       "0.035640196139667964"
      ]
     },
     "execution_count": 29,
     "metadata": {},
     "output_type": "execute_result"
    }
   ],
   "source": [
    "truncate(2000)"
   ]
  },
  {
   "cell_type": "markdown",
   "metadata": {},
   "source": [
    "So when losing 2000 of 2034 topics ( >98%) we only deviate by about 3.5% in average. What about the top 10 topics we had before?"
   ]
  },
  {
   "cell_type": "code",
   "execution_count": 30,
   "metadata": {},
   "outputs": [
    {
     "name": "stdout",
     "output_type": "stream",
     "text": [
      "(26576, 10) (10,) (10, 2034)\n",
      "relative average deviation:\n"
     ]
    },
    {
     "data": {
      "text/plain": [
       "0.13880189087519487"
      ]
     },
     "execution_count": 30,
     "metadata": {},
     "output_type": "execute_result"
    }
   ],
   "source": [
    "truncate(2024)"
   ]
  },
  {
   "cell_type": "markdown",
   "metadata": {},
   "source": [
    "So the top 10 topics cover more than 86% of the information troughout all documents. Other than interpretability of the topics, the relative average deviation might be a good percentage to try to minimize when you're interested in a certain number of topics."
   ]
  },
  {
   "cell_type": "markdown",
   "metadata": {},
   "source": [
    "## Randomized SVD"
   ]
  },
  {
   "cell_type": "markdown",
   "metadata": {},
   "source": [
    "The runtime complexity of calculating the SVD of an $m \\times n$ matrix is $\\mathcal{O}(min(m^2n,n^2m))$. But as we saw above, we don't actually need to get all the topics. One way to drastically improve the performance with only a minor loss in accuracy is using randomized SVD, where you can decide upon the amount of topics you want to obtain:"
   ]
  },
  {
   "cell_type": "code",
   "execution_count": 31,
   "metadata": {},
   "outputs": [],
   "source": [
    "u, s, v = decomposition.randomized_svd(WordPerDoc, 10)"
   ]
  },
  {
   "cell_type": "code",
   "execution_count": 32,
   "metadata": {},
   "outputs": [
    {
     "name": "stdout",
     "output_type": "stream",
     "text": [
      "(26576, 10) (10,) (10, 2034)\n"
     ]
    },
    {
     "data": {
      "text/plain": [
       "-0.13880258998375353"
      ]
     },
     "execution_count": 32,
     "metadata": {},
     "output_type": "execute_result"
    }
   ],
   "source": [
    "print(u.shape,s.shape,v.shape)\n",
    "np.mean(u@np.diag(s)@v - WordPerDoc)/np.mean(WordPerDoc)"
   ]
  },
  {
   "cell_type": "markdown",
   "metadata": {},
   "source": [
    "So we get an accuracy which is really close to where we computed the complete SVD and truncated it afterwards to the same number of topics. How do the topics in the randomized version look?"
   ]
  },
  {
   "cell_type": "code",
   "execution_count": 33,
   "metadata": {},
   "outputs": [
    {
     "data": {
      "text/plain": [
       "['jpeg image edu file graphics images gif data',\n",
       " 'jpeg gif file color quality image jfif format',\n",
       " 'space jesus launch god people satellite matthew atheists',\n",
       " 'space launch satellite commercial nasa satellites market year',\n",
       " 'image data processing analysis software available tools display',\n",
       " 'jesus matthew prophecy messiah psalm isaiah david said',\n",
       " 'launch commercial satellite market image services satellites launches',\n",
       " 'image probe surface lunar mars probes moon orbit',\n",
       " 'argument fallacy conclusion example true ad argumentum premises',\n",
       " 'space larson image theory universe physical nasa material']"
      ]
     },
     "execution_count": 33,
     "metadata": {},
     "output_type": "execute_result"
    }
   ],
   "source": [
    "show_topics(np.transpose(u))"
   ]
  },
  {
   "cell_type": "markdown",
   "metadata": {},
   "source": [
    "## Text Classification\n",
    "\n",
    "The decomposition we have can not only give us a hold of the topics, in fact it comes with a decomposition right away.\n",
    "\n",
    "The following function takes the index of a document as input and outputs the most relevant topics (5 at default) by displaying the overall topic nr., the relevancy for the specific document and the most relevant words for each topic (8 at default).\n",
    "\n",
    "If details = True is set as a parameter, the relevancies of each word for a specific topic are also displayed and plotted.\n",
    "\n",
    "With the *truncate_to* parameter, it can be specified how many of the (overall) most relevant topics should be taken into account.\n",
    "\n",
    "Also *cl* should always be the matrix containing the topics-per-document matrix that takes the overall relevancies into account as well. "
   ]
  },
  {
   "cell_type": "code",
   "execution_count": 35,
   "metadata": {},
   "outputs": [],
   "source": [
    "cl = np.diag(S)@V\n",
    "\n",
    "def show_classification(doc_index, num_top_words=8, num_topics=5, details=False, truncate_to=2000):\n",
    "    topic_indexes = np.argsort(np.transpose(cl)[doc_index, :truncate_to],axis=None)  #get the indexes of the topics in descending order (in terms of relevancy for the document)\n",
    "    top_words = lambda t: [vocab[i] for i in np.argsort(t)[:-num_top_words-1:-1]] #function that takes topic as input and returns top num_top_words words\n",
    "    for i in range(num_topics): # i in [0,...,num_topics-1]\n",
    "        cur_topic = topic_indexes[-(i+1)] #cur_topic = (i+1)-th most relevant topic\n",
    "        print(str(i+1) +\".) Topic nr.\" + str(cur_topic) + \", relevancy for document:\" + str(cl[cur_topic,doc_index]))\n",
    "        if details:\n",
    "            print(topic_details(cur_topic, num_top_words=num_top_words))\n",
    "        else:\n",
    "            print(\"Top \" + str(num_top_words) + \" words:\") \n",
    "            print(' '.join(top_words(np.transpose(U)[cur_topic])))\n",
    "    return "
   ]
  },
  {
   "cell_type": "markdown",
   "metadata": {},
   "source": [
    "### In-Sample data\n",
    "\n",
    "Let's have a look at some the In-Sample document first:"
   ]
  },
  {
   "cell_type": "code",
   "execution_count": 36,
   "metadata": {
    "scrolled": true
   },
   "outputs": [
    {
     "name": "stdout",
     "output_type": "stream",
     "text": [
      "Hi,\n",
      "\n",
      "I've noticed that if you only save a model (with all your mapping planes\n",
      "positioned carefully) to a .3DS file that when you reload it after restarting\n",
      "3DS, they are given a default position and orientation.  But if you save\n",
      "to a .PRJ file their positions/orientation are preserved.  Does anyone\n",
      "know why this information is not stored in the .3DS file?  Nothing is\n",
      "explicitly said in the manual about saving texture rules in the .PRJ file. \n",
      "I'd like to be able to read the texture rule information, does anyone have \n",
      "the format for the .PRJ file?\n",
      "\n",
      "Is the .CEL file format available from somewhere?\n",
      "\n",
      "Rych\n",
      "1.) Topic nr.383, relevancy for document:1.5076190369755713\n",
      "Top 8 words:\n",
      "read file koran linux mode given list interesting\n",
      "2.) Topic nr.343, relevancy for document:1.0248527983753972\n",
      "Top 8 words:\n",
      "aluminum video looking file polygon format email mr\n",
      "3.) Topic nr.88, relevancy for document:0.9361496911441157\n",
      "Top 8 words:\n",
      "bit cview xxxx sphinx believe does objective file\n",
      "4.) Topic nr.22, relevancy for document:0.8860415274564906\n",
      "Top 8 words:\n",
      "edu read display menu bits faq program pressing\n",
      "5.) Topic nr.259, relevancy for document:0.884972801501304\n",
      "Top 8 words:\n",
      "actually isn points know vesa file sun member\n"
     ]
    }
   ],
   "source": [
    "print(\"\\n\".join(newsgroups_train.data[:1]))\n",
    "show_classification(0)\n",
    "#show_classification(0, details=True)"
   ]
  },
  {
   "cell_type": "markdown",
   "metadata": {},
   "source": [
    "So we see that the text-classification results are actually not overwhelming in the sense that we don't see right asway that this post is related to computer graphics. But when looking at the keywords, we can see that most of them are indeed related to computer graphics. "
   ]
  },
  {
   "cell_type": "markdown",
   "metadata": {},
   "source": [
    "### Out-of-Sample data\n",
    "\n",
    "But what happens when we use out-of-sample data? Rememember that the data we used was split into training- and testing- data. \n",
    "We can use the same vectorizer as before to transform the test data into a matrix. Note that any new vocabulary is lost in the process, so we might lose information on the topics during this step."
   ]
  },
  {
   "cell_type": "code",
   "execution_count": 37,
   "metadata": {},
   "outputs": [
    {
     "name": "stdout",
     "output_type": "stream",
     "text": [
      "(26576, 1353) (26576, 2034)\n"
     ]
    }
   ],
   "source": [
    "WordPerDoc_test = np.transpose(vectorizer4.transform(newsgroups_test.data)) #transform the test data into a matrix, using the vocab of the previous transformation\n",
    "print(WordPerDoc_test.shape, WordPerDoc.shape)"
   ]
  },
  {
   "cell_type": "markdown",
   "metadata": {},
   "source": [
    "How do we get the classification now? It is actually really easy. if we have a document *doc* which translates into a document vector $b$, what we actually want to do is solve for $x$ the linear equation:\n",
    "\n",
    "$b = Ux$\n",
    "\n",
    "$x$ will then have the relevancies of the topics for *doc*. Solving that linear equation is actually really easy, because the columns of $U$ are orhogonal (as mentioned earlier), which means that: transpose(U) @ U = Identity. So\n",
    "\n",
    "$x = transpose(U)b$\n",
    "\n",
    "Let's have a look at one of the posts we have in the test data:"
   ]
  },
  {
   "cell_type": "code",
   "execution_count": 38,
   "metadata": {},
   "outputs": [
    {
     "name": "stdout",
     "output_type": "stream",
     "text": [
      "Hi there,\n",
      "\n",
      "I am here looking for some help.\n",
      "\n",
      "My friend is a interior decor designer. He is from Thailand. He is\n",
      "trying to find some graphics software on PC. Any suggestion on which\n",
      "software to buy,where to buy and how much it costs ? He likes the most\n",
      "sophisticated \n",
      "software(the more features it has,the better)\n"
     ]
    }
   ],
   "source": [
    "print(\"\\n\".join(newsgroups_test.data[2:3]))"
   ]
  },
  {
   "cell_type": "markdown",
   "metadata": {},
   "source": [
    "the corresponding document vector is the corresponding columns in *WordPerDoc_test*, so the topic-per-document vector is:"
   ]
  },
  {
   "cell_type": "code",
   "execution_count": 42,
   "metadata": {},
   "outputs": [
    {
     "name": "stdout",
     "output_type": "stream",
     "text": [
      "Wall time: 802 ms\n"
     ]
    }
   ],
   "source": [
    "%time cl = np.transpose(U) @ WordPerDoc_test[:,2:3]"
   ]
  },
  {
   "cell_type": "markdown",
   "metadata": {},
   "source": [
    "We can now use function from before to have a look into that classification (it is important to set cl to the new topics-per-document vector/matrix for the function to work)."
   ]
  },
  {
   "cell_type": "code",
   "execution_count": 41,
   "metadata": {
    "scrolled": true
   },
   "outputs": [
    {
     "name": "stdout",
     "output_type": "stream",
     "text": [
      "1.) Topic nr.47, relevancy for document:0.8478543840578256\n",
      "Top 8 words:\n",
      "graphics search software data law april gif just\n",
      "2.) Topic nr.52, relevancy for document:0.5011777275556716\n",
      "Top 8 words:\n",
      "center graphics search software tax ssf vinge information\n",
      "3.) Topic nr.49, relevancy for document:0.4656111112236855\n",
      "Top 8 words:\n",
      "uci ics incoming gif software research ________________________________________________________________________________ center\n",
      "4.) Topic nr.34, relevancy for document:0.4186861927651059\n",
      "Top 8 words:\n",
      "lunar ________________________________________________________________________________ computer software material siggraph tele use\n",
      "5.) Topic nr.140, relevancy for document:0.40427539076272306\n",
      "Top 8 words:\n",
      "cost said evidence software moral printer postscript hit\n"
     ]
    }
   ],
   "source": [
    "show_classification(0)"
   ]
  },
  {
   "cell_type": "markdown",
   "metadata": {},
   "source": [
    "So the classification seems to work quite well in the out-of-sample case as well."
   ]
  },
  {
   "cell_type": "markdown",
   "metadata": {},
   "source": [
    "## Conclusion\n",
    "\n",
    "SVD is a very useful tool to do topic modelling which implicitly gives you a lot of information. Depending on the use-case, different preprocessing should be done. At all times it should be kept in mind that this is an unsupervised learning model and you therefore have to be more flexible in interpreting the results as compared to supervised learning.\n",
    "\n",
    "There are other Matrix decompositions like Nonnegative Matrix Decompisition which can also be used for topic modelling but the fields of application are really only limited by your imagination, as SVD for instance can be used for background removal in videos and data compression.\n",
    "\n",
    "Matrix Decomposition in general is a very basic yet powerfull concept, that can be implemented using open source toolkits and libraries and have direct real life use cases without needing any sophisticated deep learning models. These kind of mathematical (Linear Algebra) concepts are the basic fundamentals of AI."
   ]
  },
  {
   "cell_type": "code",
   "execution_count": null,
   "metadata": {},
   "outputs": [],
   "source": []
  }
 ],
 "metadata": {
  "kernelspec": {
   "display_name": "Python 3",
   "language": "python",
   "name": "python3"
  },
  "language_info": {
   "codemirror_mode": {
    "name": "ipython",
    "version": 3
   },
   "file_extension": ".py",
   "mimetype": "text/x-python",
   "name": "python",
   "nbconvert_exporter": "python",
   "pygments_lexer": "ipython3",
   "version": "3.7.0"
  }
 },
 "nbformat": 4,
 "nbformat_minor": 2
}
